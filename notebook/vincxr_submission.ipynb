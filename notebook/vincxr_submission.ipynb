{
 "cells": [
  {
   "cell_type": "code",
   "execution_count": 1,
   "id": "203b4067-1746-4c15-923c-abadd1e0155e",
   "metadata": {},
   "outputs": [],
   "source": [
    "import os\n",
    "os.chdir('../')"
   ]
  },
  {
   "cell_type": "code",
   "execution_count": 2,
   "id": "0c90479d-3640-49da-a8b7-8a89f790f38e",
   "metadata": {},
   "outputs": [],
   "source": [
    "test_dir = 'data/vindr_cxr/test'"
   ]
  },
  {
   "cell_type": "code",
   "execution_count": 66,
   "id": "e44eaff7-4586-477f-959f-7d47c0385427",
   "metadata": {},
   "outputs": [],
   "source": [
    "experiment = 'frcnn_pretrained-bdc'\n",
    "submission_file = os.path.join('outputs', 'crowd-annotations-vincxr', experiment, 'submission.csv')\n",
    "prediction_dir = os.path.join('outputs', 'crowd-annotations-vincxr', experiment, 'labels')"
   ]
  },
  {
   "cell_type": "code",
   "execution_count": 67,
   "id": "51b4dffa-175d-450b-9422-518909cb4fa5",
   "metadata": {},
   "outputs": [],
   "source": [
    "with open(submission_file, 'w') as f:\n",
    "    f.write('image_id,PredictionString\\n')\n",
    "    for img_id in sorted(os.listdir(test_dir)):\n",
    "        img_id = img_id.split('.')[0]\n",
    "        pred_txt = os.path.join(prediction_dir, img_id + '.txt')\n",
    "        final_txt = img_id + ','\n",
    "        if os.path.exists(pred_txt):\n",
    "            with open(pred_txt, 'r') as pf:\n",
    "                lines = pf.readlines()\n",
    "                if len(lines) == 0:\n",
    "                    final_txt = final_txt + '14 1 0 0 1 1 '\n",
    "                else:\n",
    "                    for line in lines:\n",
    "                        cls_id, x1, y1, x2, y2, conf = line.split()\n",
    "                        final_txt = final_txt + f'{cls_id} {conf} {x1} {y1} {x2} {y2} '\n",
    "            final_txt = final_txt[:-1]\n",
    "        else:\n",
    "            final_txt = final_txt + '14 1 0 0 1 1'\n",
    "        f.write(final_txt + '\\n')"
   ]
  },
  {
   "cell_type": "code",
   "execution_count": 40,
   "id": "3cefbc8b-d4e1-45c4-95d4-9714a42fae83",
   "metadata": {},
   "outputs": [],
   "source": [
    "# submission_file = '../Crowd-R-CNN/models/res101/vindr_cxr/submission.csv'\n",
    "# prediction_dir = '../Crowd-R-CNN/models/res101/vindr_cxr/labels'"
   ]
  },
  {
   "cell_type": "code",
   "execution_count": null,
   "id": "3a994885-97ab-4621-8053-8f19ced22478",
   "metadata": {},
   "outputs": [],
   "source": []
  }
 ],
 "metadata": {
  "kernelspec": {
   "display_name": "bdc",
   "language": "python",
   "name": "bdc"
  },
  "language_info": {
   "codemirror_mode": {
    "name": "ipython",
    "version": 3
   },
   "file_extension": ".py",
   "mimetype": "text/x-python",
   "name": "python",
   "nbconvert_exporter": "python",
   "pygments_lexer": "ipython3",
   "version": "3.8.16"
  }
 },
 "nbformat": 4,
 "nbformat_minor": 5
}
